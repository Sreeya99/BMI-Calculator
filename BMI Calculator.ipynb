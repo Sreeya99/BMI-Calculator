{
 "cells": [
  {
   "cell_type": "code",
   "execution_count": 1,
   "id": "910e1b52",
   "metadata": {},
   "outputs": [
    {
     "data": {
      "text/plain": [
       "'BMI Calculator'"
      ]
     },
     "execution_count": 1,
     "metadata": {},
     "output_type": "execute_result"
    }
   ],
   "source": [
    "'BMI Calculator'"
   ]
  },
  {
   "cell_type": "code",
   "execution_count": 4,
   "id": "1e83c63c",
   "metadata": {},
   "outputs": [
    {
     "name": "stdout",
     "output_type": "stream",
     "text": [
      "Enter your name:Sreeya\n",
      "Enter your weight in pounds:88\n",
      "Enter your height in inches:61\n",
      "16.62563826928245\n",
      "Sreeya,You are underweight.\n"
     ]
    }
   ],
   "source": [
    "name = input(\"Enter your name:\")\n",
    "weight = int(input(\"Enter your weight in pounds:\"))\n",
    "height = int(input(\"Enter your height in inches:\"))\n",
    "BMI = (weight*703)/(height*height)\n",
    "print(BMI)\n",
    "if BMI >0:\n",
    "    if (BMI<18.5):\n",
    "        print(name +\",You are underweight.\")\n",
    "    elif (BMI<=24.9):\n",
    "        print(name +\",You are normal weight.\")\n",
    "    elif (BMI<29.5):\n",
    "        print(name +\",You are overweight.\")\n",
    "    elif (BMI<=34.9):\n",
    "        print(name +\",You are obese.\")\n",
    "    elif (BMI<=39.9):\n",
    "        print(name +\",You are severly obese.\")\n",
    "    else:\n",
    "        print(name +\",You are morbidly obese\")"
   ]
  },
  {
   "cell_type": "code",
   "execution_count": null,
   "id": "4ad6fa12",
   "metadata": {},
   "outputs": [],
   "source": []
  },
  {
   "cell_type": "code",
   "execution_count": null,
   "id": "6ac9ed1d",
   "metadata": {},
   "outputs": [],
   "source": []
  }
 ],
 "metadata": {
  "kernelspec": {
   "display_name": "Python 3 (ipykernel)",
   "language": "python",
   "name": "python3"
  },
  "language_info": {
   "codemirror_mode": {
    "name": "ipython",
    "version": 3
   },
   "file_extension": ".py",
   "mimetype": "text/x-python",
   "name": "python",
   "nbconvert_exporter": "python",
   "pygments_lexer": "ipython3",
   "version": "3.9.13"
  }
 },
 "nbformat": 4,
 "nbformat_minor": 5
}
